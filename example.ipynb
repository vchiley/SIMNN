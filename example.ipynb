{
 "cells": [
  {
   "cell_type": "code",
   "execution_count": 1,
   "metadata": {
    "collapsed": true
   },
   "outputs": [],
   "source": [
    "import numpy as np\n",
    "\n",
    "import matplotlib.pyplot as plt\n",
    "\n",
    "from simnn.activations import *\n",
    "from simnn.costs import *\n",
    "from simnn.layers import *\n",
    "from simnn.model import *\n",
    "from simnn.utils import *\n",
    "\n",
    "from dataset.bin_mnist_35.load_bin_mnist_35 import load_data"
   ]
  },
  {
   "cell_type": "code",
   "execution_count": 2,
   "metadata": {
    "collapsed": true
   },
   "outputs": [],
   "source": [
    "# load data\n",
    "train_fnames = ['dataset/bin_mnist_35/new_train3.txt', 'dataset/bin_mnist_35/new_train5.txt']\n",
    "X_train, Y_train = load_data(train_fnames)\n",
    "# create one hot vectors for each label\n",
    "Y_t = np.zeros(Y_train.shape, dtype=int); Y_t[np.where(Y_train == 5.)] = 1\n",
    "Y_train = one_hot(Y_t)\n",
    "\n",
    "# create dataset\n",
    "dataset = (X_train, Y_train)"
   ]
  },
  {
   "cell_type": "code",
   "execution_count": 9,
   "metadata": {
    "collapsed": true
   },
   "outputs": [],
   "source": [
    "# define model structure\n",
    "layers = [Linear(out_shape=100, activation=ReLU()),\n",
    "          Linear(out_shape=50, activation=ReLU()),\n",
    "          Linear(out_shape=2, activation=Softmax())]\n",
    "# layers = [Linear(out_shape=2, activation=Softmax())]\n",
    "\n",
    "# instantiate model\n",
    "model = Model(layers, dataset, CrossEntropy(), class_task=True)\n",
    "\n",
    "# fit model to data\n",
    "z, costs, err_rate = model.fit(dataset, 5000, nu=1e-5, prnt=False)"
   ]
  },
  {
   "cell_type": "code",
   "execution_count": 10,
   "metadata": {},
   "outputs": [
    {
     "name": "stdout",
     "output_type": "stream",
     "text": [
      "Model, in_shape: 64, out_shape: 2, \n",
      "with layers:\n",
      "Linear Layer, in_shape: 64, out_shape: 100, with bias: False, and activation: ReLU\n",
      "Linear Layer, in_shape: 100, out_shape: 50, with bias: False, and activation: ReLU\n",
      "Linear Layer, in_shape: 50, out_shape: 2, with bias: False, and activation: Softmax, n_stable: True\n",
      "and cost: CrossEntropyCost\n",
      "\n",
      "Final cost: 30.82557065010637\n",
      "Final error rate: 0.002142857142857143\n"
     ]
    },
    {
     "data": {
      "image/png": "[encoded data removed]",
      "text/plain": [
       "<matplotlib.figure.Figure at 0x112342470>"
      ]
     },
     "metadata": {},
     "output_type": "display_data"
    },
    {
     "name": "stdout",
     "output_type": "stream",
     "text": [
      "A classic example of overfitting\n"
     ]
    }
   ],
   "source": [
    "print(model)\n",
    "\n",
    "print('Final cost: {}'.format(costs[-1]))\n",
    "print('Final error rate: {}'.format(err_rate[-1]))\n",
    "\n",
    "f, (ax1, ax2) = plt.subplots(1, 2, figsize=(15, 5))\n",
    "ax1.plot(err_rate)\n",
    "ax1.set_title('error rate')\n",
    "ax2.plot(costs)\n",
    "ax2.set_title('cost')\n",
    "plt.show()\n",
    "\n",
    "print('A classic example of overfitting')"
   ]
  },
  {
   "cell_type": "code",
   "execution_count": null,
   "metadata": {
    "collapsed": true
   },
   "outputs": [],
   "source": []
  }
 ],
 "metadata": {
  "kernelspec": {
   "display_name": "Python 3",
   "language": "python",
   "name": "python3"
  },
  "language_info": {
   "codemirror_mode": {
    "name": "ipython",
    "version": 3
   },
   "file_extension": ".py",
   "mimetype": "text/x-python",
   "name": "python",
   "nbconvert_exporter": "python",
   "pygments_lexer": "ipython3",
   "version": "3.6.2"
  }
 },
 "nbformat": 4,
 "nbformat_minor": 2
}
